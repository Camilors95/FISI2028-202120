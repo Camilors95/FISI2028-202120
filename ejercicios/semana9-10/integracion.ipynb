{
 "cells": [
  {
   "cell_type": "code",
   "execution_count": 1,
   "id": "7cbf9e92-6ee3-488c-b656-3000ffac66e4",
   "metadata": {},
   "outputs": [],
   "source": [
    "import numpy as np\n",
    "import pandas as pd\n",
    "import scipy as sp\n",
    "import sklearn as sl\n",
    "import seaborn as sns; sns.set()\n",
    "import matplotlib as mpl\n",
    "import matplotlib.pyplot as plt\n",
    "%matplotlib inline"
   ]
  },
  {
   "cell_type": "code",
   "execution_count": 19,
   "id": "0491f3d4-a861-4f7f-929d-5bc3b323de7c",
   "metadata": {},
   "outputs": [],
   "source": [
    "def f(x):\n",
    "    if x >= 0:\n",
    "        return np.exp(np.sqrt(x))\n",
    "    return 0\n",
    "f_v = np.vectorize(f)"
   ]
  },
  {
   "cell_type": "code",
   "execution_count": 46,
   "id": "784c325b-3c02-4f81-8bf0-ca45c12d81de",
   "metadata": {},
   "outputs": [],
   "source": [
    "N = 1000\n",
    "d = 10.0 / (N-1)\n",
    "X = np.linspace(0,10,N)\n",
    "Y = f_v(X)\n",
    "# plt.scatter(X,Y)"
   ]
  },
  {
   "cell_type": "markdown",
   "id": "1cce515b-51c7-4114-b3af-fe5fe093e3cd",
   "metadata": {},
   "source": [
    "# integracion: metodo inf, sup y trapecio"
   ]
  },
  {
   "cell_type": "code",
   "execution_count": 47,
   "id": "f83b1aa1-6362-40bc-9b0e-943d0c1d46ce",
   "metadata": {},
   "outputs": [
    {
     "name": "stdout",
     "output_type": "stream",
     "text": [
      "Area Metodo INF: 104.05136169743453\n"
     ]
    }
   ],
   "source": [
    "w = np.zeros(N)\n",
    "w = w + 1\n",
    "w[N-1] = 0\n",
    "print(\"Area Metodo INF:\",d*np.dot(w,Y))"
   ]
  },
  {
   "cell_type": "code",
   "execution_count": 48,
   "id": "99f19626-4394-4e54-b991-53dcfcf2e542",
   "metadata": {},
   "outputs": [
    {
     "name": "stdout",
     "output_type": "stream",
     "text": [
      "Area Metodo SUP: 104.27783159655384\n"
     ]
    }
   ],
   "source": [
    "w = np.zeros(N)\n",
    "w = w + 1\n",
    "w[0] = 0\n",
    "print(\"Area Metodo SUP:\",d*np.dot(w,Y))"
   ]
  },
  {
   "cell_type": "code",
   "execution_count": 49,
   "id": "166a276a-73d9-49a3-b046-6b1254c857dc",
   "metadata": {},
   "outputs": [
    {
     "name": "stdout",
     "output_type": "stream",
     "text": [
      "Area Metodo trapecio: 104.16459664699418\n"
     ]
    }
   ],
   "source": [
    "w = np.zeros(N)\n",
    "w = w + 1\n",
    "w[0] = 1/2\n",
    "w[N-1] = 1/2\n",
    "print(\"Area Metodo trapecio:\",d*np.dot(w,Y))"
   ]
  },
  {
   "cell_type": "code",
   "execution_count": 51,
   "id": "31066033-b7b2-4c72-942e-fac69e87ba70",
   "metadata": {},
   "outputs": [
    {
     "data": {
      "text/plain": [
       "104.16459664699418"
      ]
     },
     "execution_count": 51,
     "metadata": {},
     "output_type": "execute_result"
    }
   ],
   "source": [
    "sp.integrate.trapezoid(y=Y, x=X)"
   ]
  },
  {
   "cell_type": "code",
   "execution_count": 52,
   "id": "ea98291b-40fa-4c56-ae42-96e0a3207b7b",
   "metadata": {},
   "outputs": [
    {
     "data": {
      "text/plain": [
       "104.16465325000541"
      ]
     },
     "execution_count": 52,
     "metadata": {},
     "output_type": "execute_result"
    }
   ],
   "source": [
    "sp.integrate.simpson(y=Y, x=X)"
   ]
  },
  {
   "cell_type": "markdown",
   "id": "1ae5ec1d-eb25-4d03-bbe1-439fbf2a2127",
   "metadata": {},
   "source": [
    "# Vandermonde Matrix"
   ]
  },
  {
   "cell_type": "code",
   "execution_count": 53,
   "id": "4cba3d6b-8e9f-4140-9bc9-58187b8a9da8",
   "metadata": {},
   "outputs": [],
   "source": [
    "X = np.array([1.,2.,4.,7.])"
   ]
  },
  {
   "cell_type": "code",
   "execution_count": 57,
   "id": "5337f086-f338-42b8-b0be-43c0c067b49f",
   "metadata": {},
   "outputs": [],
   "source": [
    "V = np.array([X**0, X**1, X**2, X**3])"
   ]
  },
  {
   "cell_type": "code",
   "execution_count": 58,
   "id": "4f968819-35a8-488e-be08-e63f54639912",
   "metadata": {},
   "outputs": [
    {
     "data": {
      "text/plain": [
       "array([[ 3.11111111, -2.77777778,  0.72222222, -0.05555556],\n",
       "       [-2.8       ,  3.9       , -1.2       ,  0.1       ],\n",
       "       [ 0.77777778, -1.27777778,  0.55555556, -0.05555556],\n",
       "       [-0.08888889,  0.15555556, -0.07777778,  0.01111111]])"
      ]
     },
     "execution_count": 58,
     "metadata": {},
     "output_type": "execute_result"
    }
   ],
   "source": [
    "np.linalg.inv(V)"
   ]
  },
  {
   "cell_type": "markdown",
   "id": "561851b5-66ea-436a-a7f1-7f5c4e440a44",
   "metadata": {},
   "source": [
    "$$I_n=\\int_0^{10}x^ndx = \\frac{10^{n+1}}{n+1}$$"
   ]
  },
  {
   "cell_type": "code",
   "execution_count": null,
   "id": "938b9452-9b9c-4746-99da-a21f0bf6bb4b",
   "metadata": {},
   "outputs": [],
   "source": []
  }
 ],
 "metadata": {
  "kernelspec": {
   "display_name": "fisi2028",
   "language": "python",
   "name": "fisi2028"
  },
  "language_info": {
   "codemirror_mode": {
    "name": "ipython",
    "version": 3
   },
   "file_extension": ".py",
   "mimetype": "text/x-python",
   "name": "python",
   "nbconvert_exporter": "python",
   "pygments_lexer": "ipython3",
   "version": "3.9.7"
  }
 },
 "nbformat": 4,
 "nbformat_minor": 5
}
