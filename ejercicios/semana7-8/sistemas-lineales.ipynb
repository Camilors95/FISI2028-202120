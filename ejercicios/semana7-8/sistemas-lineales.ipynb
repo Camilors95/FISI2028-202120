{
 "cells": [
  {
   "cell_type": "code",
   "execution_count": 2,
   "metadata": {},
   "outputs": [],
   "source": [
    "import pylab\n",
    "import numpy as np\n",
    "np.seterr(all='raise')\n",
    "np.random.seed(13)\n",
    "import scipy as sp\n",
    "import pandas as pd # tablas de datos -> bases datos\n",
    "import seaborn as sns; sns.set() # graficar (sobre matplotlib) ampliar la funcionalidad de matplotlib\n",
    "import matplotlib as mpl\n",
    "import matplotlib.pyplot as plt\n",
    "# mpl.rc('text', usetex=True)\n",
    "%matplotlib inline\n",
    "# from tqdm import tqdm\n",
    "\n",
    "from sklearn.datasets import fetch_california_housing\n",
    "housing = fetch_california_housing()"
   ]
  },
  {
   "cell_type": "markdown",
   "metadata": {},
   "source": [
    "### Omitir por el momento"
   ]
  },
  {
   "cell_type": "code",
   "execution_count": null,
   "metadata": {},
   "outputs": [],
   "source": [
    "def calc_error(res,e,names=[]):\n",
    "    tmp_i = np.zeros(len(res.x))\n",
    "    etol = e * max(1, abs(res.fun))\n",
    "    for i in range(len(res.x)):\n",
    "        tmp_i[i] = 1.0\n",
    "        hess_inv_i = res.hess_inv(tmp_i)[i]\n",
    "        uncertainty_i = np.sqrt(etol * hess_inv_i)\n",
    "        tmp_i[i] = 0.0\n",
    "        if len(names) > 0:\n",
    "            print('{0} = {1:12.4e} ± {2:.1e}'.format(names[i], res.x[i], uncertainty_i))\n",
    "        else:\n",
    "            print('x^{0} = {1:12.4e} ± {2:.1e}'.format(i, res.x[i], uncertainty_i))"
   ]
  },
  {
   "cell_type": "markdown",
   "metadata": {
    "tags": []
   },
   "source": [
    "# Revisar bases de datos conocidas\n",
    "[SciKit Learn](https://scikit-learn.org/stable/datasets/index.html)\n",
    "<!-- X,Y = datasets.load_boston(return_X_y=True) -->"
   ]
  },
  {
   "cell_type": "code",
   "execution_count": 69,
   "metadata": {},
   "outputs": [],
   "source": [
    "A = pd.DataFrame(housing['data'], columns=housing['feature_names'])\n",
    "b = pd.DataFrame(housing['target'], columns=[\"MEDV\"])\n",
    "A.insert(0,'c0',1)"
   ]
  },
  {
   "cell_type": "code",
   "execution_count": 70,
   "metadata": {},
   "outputs": [
    {
     "data": {
      "text/html": [
       "<div>\n",
       "<style scoped>\n",
       "    .dataframe tbody tr th:only-of-type {\n",
       "        vertical-align: middle;\n",
       "    }\n",
       "\n",
       "    .dataframe tbody tr th {\n",
       "        vertical-align: top;\n",
       "    }\n",
       "\n",
       "    .dataframe thead th {\n",
       "        text-align: right;\n",
       "    }\n",
       "</style>\n",
       "<table border=\"1\" class=\"dataframe\">\n",
       "  <thead>\n",
       "    <tr style=\"text-align: right;\">\n",
       "      <th></th>\n",
       "      <th>c0</th>\n",
       "      <th>MedInc</th>\n",
       "      <th>HouseAge</th>\n",
       "      <th>AveRooms</th>\n",
       "      <th>AveBedrms</th>\n",
       "      <th>Population</th>\n",
       "      <th>AveOccup</th>\n",
       "      <th>Latitude</th>\n",
       "      <th>Longitude</th>\n",
       "    </tr>\n",
       "  </thead>\n",
       "  <tbody>\n",
       "    <tr>\n",
       "      <th>0</th>\n",
       "      <td>1</td>\n",
       "      <td>8.3252</td>\n",
       "      <td>41.0</td>\n",
       "      <td>6.984127</td>\n",
       "      <td>1.023810</td>\n",
       "      <td>322.0</td>\n",
       "      <td>2.555556</td>\n",
       "      <td>37.88</td>\n",
       "      <td>-122.23</td>\n",
       "    </tr>\n",
       "    <tr>\n",
       "      <th>1</th>\n",
       "      <td>1</td>\n",
       "      <td>8.3014</td>\n",
       "      <td>21.0</td>\n",
       "      <td>6.238137</td>\n",
       "      <td>0.971880</td>\n",
       "      <td>2401.0</td>\n",
       "      <td>2.109842</td>\n",
       "      <td>37.86</td>\n",
       "      <td>-122.22</td>\n",
       "    </tr>\n",
       "    <tr>\n",
       "      <th>2</th>\n",
       "      <td>1</td>\n",
       "      <td>7.2574</td>\n",
       "      <td>52.0</td>\n",
       "      <td>8.288136</td>\n",
       "      <td>1.073446</td>\n",
       "      <td>496.0</td>\n",
       "      <td>2.802260</td>\n",
       "      <td>37.85</td>\n",
       "      <td>-122.24</td>\n",
       "    </tr>\n",
       "    <tr>\n",
       "      <th>3</th>\n",
       "      <td>1</td>\n",
       "      <td>5.6431</td>\n",
       "      <td>52.0</td>\n",
       "      <td>5.817352</td>\n",
       "      <td>1.073059</td>\n",
       "      <td>558.0</td>\n",
       "      <td>2.547945</td>\n",
       "      <td>37.85</td>\n",
       "      <td>-122.25</td>\n",
       "    </tr>\n",
       "    <tr>\n",
       "      <th>4</th>\n",
       "      <td>1</td>\n",
       "      <td>3.8462</td>\n",
       "      <td>52.0</td>\n",
       "      <td>6.281853</td>\n",
       "      <td>1.081081</td>\n",
       "      <td>565.0</td>\n",
       "      <td>2.181467</td>\n",
       "      <td>37.85</td>\n",
       "      <td>-122.25</td>\n",
       "    </tr>\n",
       "    <tr>\n",
       "      <th>...</th>\n",
       "      <td>...</td>\n",
       "      <td>...</td>\n",
       "      <td>...</td>\n",
       "      <td>...</td>\n",
       "      <td>...</td>\n",
       "      <td>...</td>\n",
       "      <td>...</td>\n",
       "      <td>...</td>\n",
       "      <td>...</td>\n",
       "    </tr>\n",
       "    <tr>\n",
       "      <th>20635</th>\n",
       "      <td>1</td>\n",
       "      <td>1.5603</td>\n",
       "      <td>25.0</td>\n",
       "      <td>5.045455</td>\n",
       "      <td>1.133333</td>\n",
       "      <td>845.0</td>\n",
       "      <td>2.560606</td>\n",
       "      <td>39.48</td>\n",
       "      <td>-121.09</td>\n",
       "    </tr>\n",
       "    <tr>\n",
       "      <th>20636</th>\n",
       "      <td>1</td>\n",
       "      <td>2.5568</td>\n",
       "      <td>18.0</td>\n",
       "      <td>6.114035</td>\n",
       "      <td>1.315789</td>\n",
       "      <td>356.0</td>\n",
       "      <td>3.122807</td>\n",
       "      <td>39.49</td>\n",
       "      <td>-121.21</td>\n",
       "    </tr>\n",
       "    <tr>\n",
       "      <th>20637</th>\n",
       "      <td>1</td>\n",
       "      <td>1.7000</td>\n",
       "      <td>17.0</td>\n",
       "      <td>5.205543</td>\n",
       "      <td>1.120092</td>\n",
       "      <td>1007.0</td>\n",
       "      <td>2.325635</td>\n",
       "      <td>39.43</td>\n",
       "      <td>-121.22</td>\n",
       "    </tr>\n",
       "    <tr>\n",
       "      <th>20638</th>\n",
       "      <td>1</td>\n",
       "      <td>1.8672</td>\n",
       "      <td>18.0</td>\n",
       "      <td>5.329513</td>\n",
       "      <td>1.171920</td>\n",
       "      <td>741.0</td>\n",
       "      <td>2.123209</td>\n",
       "      <td>39.43</td>\n",
       "      <td>-121.32</td>\n",
       "    </tr>\n",
       "    <tr>\n",
       "      <th>20639</th>\n",
       "      <td>1</td>\n",
       "      <td>2.3886</td>\n",
       "      <td>16.0</td>\n",
       "      <td>5.254717</td>\n",
       "      <td>1.162264</td>\n",
       "      <td>1387.0</td>\n",
       "      <td>2.616981</td>\n",
       "      <td>39.37</td>\n",
       "      <td>-121.24</td>\n",
       "    </tr>\n",
       "  </tbody>\n",
       "</table>\n",
       "<p>20640 rows × 9 columns</p>\n",
       "</div>"
      ],
      "text/plain": [
       "       c0  MedInc  HouseAge  AveRooms  AveBedrms  Population  AveOccup  \\\n",
       "0       1  8.3252      41.0  6.984127   1.023810       322.0  2.555556   \n",
       "1       1  8.3014      21.0  6.238137   0.971880      2401.0  2.109842   \n",
       "2       1  7.2574      52.0  8.288136   1.073446       496.0  2.802260   \n",
       "3       1  5.6431      52.0  5.817352   1.073059       558.0  2.547945   \n",
       "4       1  3.8462      52.0  6.281853   1.081081       565.0  2.181467   \n",
       "...    ..     ...       ...       ...        ...         ...       ...   \n",
       "20635   1  1.5603      25.0  5.045455   1.133333       845.0  2.560606   \n",
       "20636   1  2.5568      18.0  6.114035   1.315789       356.0  3.122807   \n",
       "20637   1  1.7000      17.0  5.205543   1.120092      1007.0  2.325635   \n",
       "20638   1  1.8672      18.0  5.329513   1.171920       741.0  2.123209   \n",
       "20639   1  2.3886      16.0  5.254717   1.162264      1387.0  2.616981   \n",
       "\n",
       "       Latitude  Longitude  \n",
       "0         37.88    -122.23  \n",
       "1         37.86    -122.22  \n",
       "2         37.85    -122.24  \n",
       "3         37.85    -122.25  \n",
       "4         37.85    -122.25  \n",
       "...         ...        ...  \n",
       "20635     39.48    -121.09  \n",
       "20636     39.49    -121.21  \n",
       "20637     39.43    -121.22  \n",
       "20638     39.43    -121.32  \n",
       "20639     39.37    -121.24  \n",
       "\n",
       "[20640 rows x 9 columns]"
      ]
     },
     "execution_count": 70,
     "metadata": {},
     "output_type": "execute_result"
    }
   ],
   "source": [
    "A"
   ]
  },
  {
   "cell_type": "markdown",
   "metadata": {},
   "source": [
    "$$\\mathbb{A}\\cdot\\vec{x} + c_0 \\cdot \\mathbb{1} = \\vec{b} $$\n",
    "\n",
    "Tenemos que utilizar minimimos cuadrados?\n",
    "\n",
    "$$MSE=\\min_{\\vec{x}} || \\vec{b} - \\mathbb{A}\\cdot\\vec{x} ||^2$$\n",
    "\n",
    "\n",
    "\n",
    "$$\\vec{x} = (\\mathbb{A}^T\\cdot\\mathbb{A})^{-1}\\cdot\\mathbb{A}^T\\vec{b} $$\n",
    "\n",
    "y = rho()*sigma_y/sigma_x\n",
    "\n",
    "$$X = x_1+x_2+x_3+\\dots$$\n",
    "Mi intención,\n",
    "$$CRIM\\times x_1+ZN\\times x_2+INDUS\\times x_3+\\dots = b$$"
   ]
  },
  {
   "cell_type": "code",
   "execution_count": 71,
   "metadata": {},
   "outputs": [],
   "source": [
    "Anumpy = np.matrix(A.to_numpy(dtype=np.float32)) # \"\"\n",
    "bnumpy = np.matrix(b.to_numpy(dtype=np.float32))"
   ]
  },
  {
   "cell_type": "code",
   "execution_count": 72,
   "metadata": {},
   "outputs": [],
   "source": [
    "# %%timeit\n",
    "X_opt = np.linalg.inv(Anumpy.T*Anumpy)*Anumpy.T*bnumpy"
   ]
  },
  {
   "cell_type": "code",
   "execution_count": 73,
   "metadata": {},
   "outputs": [
    {
     "name": "stdout",
     "output_type": "stream",
     "text": [
      "[[-3.7484428e+01  4.3536872e-01  9.3336608e-03 -1.0601799e-01\n",
      "   6.4089394e-01 -4.3013570e-06 -3.7718164e-03 -4.2704299e-01\n",
      "  -4.4078553e-01]]\n"
     ]
    }
   ],
   "source": [
    "print(X_opt.T)"
   ]
  },
  {
   "cell_type": "code",
   "execution_count": 74,
   "metadata": {},
   "outputs": [
    {
     "data": {
      "text/plain": [
       "array([4.128294  , 3.9739418 , 3.6751823 , ..., 0.16096497, 0.3091488 ,\n",
       "       0.50494385], dtype=float32)"
      ]
     },
     "execution_count": 74,
     "metadata": {},
     "output_type": "execute_result"
    }
   ],
   "source": [
    "np.array(Anumpy*X_opt).flatten()"
   ]
  },
  {
   "cell_type": "code",
   "execution_count": 75,
   "metadata": {},
   "outputs": [
    {
     "name": "stderr",
     "output_type": "stream",
     "text": [
      "/opt/conda3/envs/fisi2028/lib/python3.9/site-packages/seaborn/_decorators.py:36: FutureWarning: Pass the following variables as keyword args: x, y. From version 0.12, the only valid positional argument will be `data`, and passing other arguments without an explicit keyword will result in an error or misinterpretation.\n",
      "  warnings.warn(\n"
     ]
    },
    {
     "data": {
      "text/plain": [
       "[<matplotlib.lines.Line2D at 0x7efec60626d0>]"
      ]
     },
     "execution_count": 75,
     "metadata": {},
     "output_type": "execute_result"
    },
    {
     "data": {
      "image/png": "[encoded data removed]",
      "text/plain": [
       "<Figure size 432x288 with 1 Axes>"
      ]
     },
     "metadata": {
      "needs_background": "light"
     },
     "output_type": "display_data"
    }
   ],
   "source": [
    "sns.scatterplot(np.array(Anumpy*X_opt).flatten(),np.array(bnumpy).flatten())\n",
    "plt.plot([0,10],[0,10])"
   ]
  },
  {
   "cell_type": "code",
   "execution_count": 76,
   "metadata": {},
   "outputs": [],
   "source": [
    "predicciones = np.array(Anumpy*X_opt).flatten()"
   ]
  },
  {
   "cell_type": "code",
   "execution_count": 77,
   "metadata": {},
   "outputs": [],
   "source": [
    "observaciones = np.array(bnumpy).flatten()\n",
    "bbarrita = observaciones.mean()"
   ]
  },
  {
   "cell_type": "code",
   "execution_count": 78,
   "metadata": {},
   "outputs": [],
   "source": [
    "r2 = 1-(np.linalg.norm(predicciones - observaciones)**2)/(np.linalg.norm(observaciones - bbarrita)**2)"
   ]
  },
  {
   "cell_type": "code",
   "execution_count": 79,
   "metadata": {},
   "outputs": [
    {
     "data": {
      "text/plain": [
       "0.6062140614934268"
      ]
     },
     "execution_count": 79,
     "metadata": {},
     "output_type": "execute_result"
    }
   ],
   "source": [
    "r2"
   ]
  },
  {
   "cell_type": "markdown",
   "metadata": {},
   "source": [
    "# Implementemos nuestro algoritmo de Optimización por Newton Raphson\n",
    "La idea es encontrar $X_{opt}$ de forma iterativa sin invertir la matriz"
   ]
  },
  {
   "cell_type": "code",
   "execution_count": null,
   "metadata": {},
   "outputs": [],
   "source": [
    "# Definamos la func de costo (debe devolver un escalar)\n",
    "def L(x,A,b):\n",
    "    # (b_pred-b_obs)^2\n",
    "    # m es el numero de datos\n",
    "    # n es el numero de parametros == 13\n",
    "    m,n = A.shape\n",
    "    X = np.matrix(x).T\n",
    "    DeltaB=(A*X-b)\n",
    "    return (DeltaB.T*DeltaB)[0,0]/m\n",
    "def dLdx(x,A,b):\n",
    "    # (b_pred-b_obs)^2\n",
    "    # m es el numero de datos\n",
    "    # n es el numero de parametros == 13\n",
    "    m,n = A.shape\n",
    "    X = np.matrix(x).T\n",
    "    DeltaB=(A*X-b)\n",
    "    return (2/m)*np.array(A.T*DeltaB).flatten()"
   ]
  },
  {
   "cell_type": "code",
   "execution_count": null,
   "metadata": {},
   "outputs": [],
   "source": [
    "# encontrar una forma iterativa de actualizar X para ir minimizando la funcion de costo L\n",
    "x = np.zeros(Anumpy.shape[1])\n",
    "epsilon = 2e-6\n",
    "cost = []\n",
    "N = 100\n",
    "for it in range(N):\n",
    "    x = x - epsilon*dLdx(x,Anumpy,bnumpy)\n",
    "    cost.append(L(x,Anumpy,bnumpy))\n",
    "sns.scatterplot(np.arange(N)+1,cost)\n",
    "# plt.xscale('log')\n",
    "# plt.yscale('log')"
   ]
  },
  {
   "cell_type": "code",
   "execution_count": null,
   "metadata": {},
   "outputs": [],
   "source": [
    "L(np.array(X_opt).flatten(),Anumpy,bnumpy)"
   ]
  },
  {
   "cell_type": "code",
   "execution_count": null,
   "metadata": {},
   "outputs": [],
   "source": [
    "np.array(X_opt).flatten()"
   ]
  },
  {
   "cell_type": "code",
   "execution_count": null,
   "metadata": {},
   "outputs": [],
   "source": [
    "e=1e-10"
   ]
  },
  {
   "cell_type": "code",
   "execution_count": null,
   "metadata": {},
   "outputs": [],
   "source": [
    "# %%timeit\n",
    "res1 = sp.optimize.minimize(fun=L,jac=dLdx, x0=np.zeros(Anumpy.shape[1]), args = (Anumpy,bnumpy), method='Newton-CG', tol=e)\n",
    "res1"
   ]
  },
  {
   "cell_type": "code",
   "execution_count": null,
   "metadata": {},
   "outputs": [],
   "source": [
    "res2 = sp.optimize.minimize(fun=L,jac=dLdx, x0=np.zeros(Anumpy.shape[1]), args = (Anumpy,bnumpy), method='L-BFGS-B', tol=e)\n",
    "res2"
   ]
  },
  {
   "cell_type": "code",
   "execution_count": null,
   "metadata": {},
   "outputs": [],
   "source": [
    "L(res1.x,Anumpy,bnumpy)"
   ]
  },
  {
   "cell_type": "code",
   "execution_count": null,
   "metadata": {},
   "outputs": [],
   "source": [
    "L(res2.x,Anumpy,bnumpy)"
   ]
  },
  {
   "cell_type": "code",
   "execution_count": null,
   "metadata": {},
   "outputs": [],
   "source": [
    "L(np.array(X_opt).flatten(),Anumpy,bnumpy)"
   ]
  },
  {
   "cell_type": "code",
   "execution_count": null,
   "metadata": {},
   "outputs": [],
   "source": [
    "calc_error(res2,e,names=[])"
   ]
  },
  {
   "cell_type": "markdown",
   "metadata": {},
   "source": [
    "# Fit a funciones no lineales"
   ]
  },
  {
   "cell_type": "code",
   "execution_count": null,
   "metadata": {},
   "outputs": [],
   "source": [
    "print(\"Nuestra caja experimental!\")\n",
    "a = 3/2\n",
    "b = 4\n",
    "c = -3\n",
    "N=100\n",
    "x = np.linspace(0.2,10,N)\n",
    "y = a/(1+np.exp(c*(x-b)))\n",
    "x1 = x + np.random.exponential(0.01,size=N)\n",
    "y1 = y + np.random.normal(0,0.05,size=N)\n",
    "x2 = x + np.random.normal(0,0.03,size=N)\n",
    "y2 = y + np.random.exponential(0.05,size=N)"
   ]
  },
  {
   "cell_type": "code",
   "execution_count": null,
   "metadata": {},
   "outputs": [],
   "source": [
    "sns.scatterplot(x1,y1)"
   ]
  },
  {
   "cell_type": "code",
   "execution_count": null,
   "metadata": {},
   "outputs": [],
   "source": [
    "sns.scatterplot(x2,y2)"
   ]
  },
  {
   "cell_type": "markdown",
   "metadata": {},
   "source": [
    "# ¿Cómo hacer el fit a la función?\n",
    "$$f(x) = a\\frac{1}{1+e^{bx+c}}$$"
   ]
  },
  {
   "cell_type": "code",
   "execution_count": null,
   "metadata": {},
   "outputs": [],
   "source": [
    "#como encuentro yo a, b y c?\n",
    "# cual seria nuestra funcion de costo\n",
    "def f(parametros,x):\n",
    "    return parametros[0]/(1+np.exp(parametros[1]*x+parametros[2]))\n",
    "def Lfit(parametros,x,y):\n",
    "    # L = promedio sobre todos los puntos (f(a,b,c;x)-y)^2\n",
    "    # parametros np.array([a,b,c])\n",
    "    deltaY=f(parametros,x) - y\n",
    "    return np.dot(deltaY,deltaY)/len(y)"
   ]
  },
  {
   "cell_type": "code",
   "execution_count": null,
   "metadata": {},
   "outputs": [],
   "source": [
    "print(\"Ajuste para el primer set: x1,y1\")\n",
    "e=1e-8\n",
    "# ansatz: a=1,b=0,c=0\n",
    "res1 = sp.optimize.minimize(fun=Lfit, x0=np.array([1,0,0]), args = (x1,y1), method='L-BFGS-B', tol=e)\n",
    "res1"
   ]
  },
  {
   "cell_type": "code",
   "execution_count": null,
   "metadata": {},
   "outputs": [],
   "source": [
    "y1_pred = f(res1.x,x1)\n",
    "sns.scatterplot(x1,y1)\n",
    "plt.plot(x1,y1_pred,color='r')"
   ]
  },
  {
   "cell_type": "code",
   "execution_count": null,
   "metadata": {},
   "outputs": [],
   "source": [
    "r2 = 1-np.sum((y1_pred-y1)**2)/np.sum((y1-y1.mean())**2)\n",
    "r2"
   ]
  },
  {
   "cell_type": "code",
   "execution_count": null,
   "metadata": {},
   "outputs": [],
   "source": [
    "calc_error(res1,e,names=['a','b','c'])"
   ]
  },
  {
   "cell_type": "markdown",
   "metadata": {},
   "source": [
    "# ¿Cómo hacer el fit a la función?\n",
    "$$f(x) = a + b\\tanh(cx+d)$$"
   ]
  },
  {
   "cell_type": "code",
   "execution_count": null,
   "metadata": {},
   "outputs": [],
   "source": [
    "#como encuentro yo a, b y c?\n",
    "# cual seria nuestra funcion de costo\n",
    "def ftilde(parametros,x):\n",
    "    return parametros[0]+parametros[1]*np.tanh(parametros[2]*x+parametros[3])\n",
    "def Lfit(parametros,x,y):\n",
    "    # L = promedio sobre todos los puntos (f(a,b,c,d;x)-y)^2\n",
    "    # parametros np.array([a,b,c,d])\n",
    "    deltaY=ftilde(parametros,x) - y\n",
    "    return np.dot(deltaY,deltaY)/len(y)"
   ]
  },
  {
   "cell_type": "code",
   "execution_count": null,
   "metadata": {},
   "outputs": [],
   "source": [
    "print(\"Ajuste para el primer set: x1,y1\")\n",
    "e=1e-8\n",
    "# ansatz: a=0,b=1,c=0,d=0\n",
    "res1 = sp.optimize.minimize(fun=Lfit, x0=np.array([0,1,0,0]), args = (x1,y1), method='L-BFGS-B', tol=e)\n",
    "res1"
   ]
  },
  {
   "cell_type": "code",
   "execution_count": null,
   "metadata": {},
   "outputs": [],
   "source": [
    "y1_pred = ftilde(res1.x,x1)\n",
    "sns.scatterplot(x1,y1)\n",
    "plt.plot(x1,y1_pred,color='r')"
   ]
  },
  {
   "cell_type": "code",
   "execution_count": null,
   "metadata": {},
   "outputs": [],
   "source": [
    "r2 = 1-np.sum((y1_pred-y1)**2)/np.sum((y1-y1.mean())**2)\n",
    "r2"
   ]
  },
  {
   "cell_type": "code",
   "execution_count": null,
   "metadata": {},
   "outputs": [],
   "source": [
    "calc_error(res1,e,names=['a','b','c','d'])"
   ]
  },
  {
   "cell_type": "code",
   "execution_count": null,
   "metadata": {},
   "outputs": [],
   "source": []
  }
 ],
 "metadata": {
  "kernelspec": {
   "display_name": "fisi2028",
   "language": "python",
   "name": "fisi2028"
  },
  "language_info": {
   "codemirror_mode": {
    "name": "ipython",
    "version": 3
   },
   "file_extension": ".py",
   "mimetype": "text/x-python",
   "name": "python",
   "nbconvert_exporter": "python",
   "pygments_lexer": "ipython3",
   "version": "3.9.7"
  }
 },
 "nbformat": 4,
 "nbformat_minor": 4
}
