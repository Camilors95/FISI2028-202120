{
 "cells": [
  {
   "cell_type": "code",
   "execution_count": null,
   "metadata": {},
   "outputs": [],
   "source": [
    "import pylab\n",
    "import numpy as np\n",
    "np.seterr(all='raise')\n",
    "np.random.seed(13)\n",
    "import scipy as sp\n",
    "import pandas as pd\n",
    "import seaborn as sns; sns.set()\n",
    "import matplotlib as mpl\n",
    "import matplotlib.pyplot as plt\n",
    "# mpl.rc('text', usetex=True)\n",
    "%matplotlib inline\n",
    "from tqdm import tqdm\n",
    "\n",
    "from sklearn import datasets"
   ]
  },
  {
   "cell_type": "code",
   "execution_count": null,
   "metadata": {},
   "outputs": [],
   "source": [
    "def calc_error(res,e,names=[]):\n",
    "    tmp_i = np.zeros(len(res.x))\n",
    "    etol = e * max(1, abs(res.fun))\n",
    "    for i in range(len(res.x)):\n",
    "        tmp_i[i] = 1.0\n",
    "        hess_inv_i = res.hess_inv(tmp_i)[i]\n",
    "        uncertainty_i = np.sqrt(etol * hess_inv_i)\n",
    "        tmp_i[i] = 0.0\n",
    "        if len(names) > 0:\n",
    "            print('{0} = {1:12.4e} ± {2:.1e}'.format(names[i], res.x[i], uncertainty_i))\n",
    "        else:\n",
    "            print('x^{0} = {1:12.4e} ± {2:.1e}'.format(i, res.x[i], uncertainty_i))"
   ]
  },
  {
   "cell_type": "markdown",
   "metadata": {},
   "source": [
    "# Revisar bases de datos conocidas\n",
    "[SciKit Learn](https://scikit-learn.org/stable/datasets/index.html)\n",
    "<!-- X,Y = datasets.load_boston(return_X_y=True) -->"
   ]
  },
  {
   "cell_type": "code",
   "execution_count": null,
   "metadata": {},
   "outputs": [],
   "source": [
    "datasets.load_boston()"
   ]
  },
  {
   "cell_type": "code",
   "execution_count": null,
   "metadata": {},
   "outputs": [],
   "source": [
    "A = pd.DataFrame(datasets.load_boston().data, columns=datasets.load_boston().feature_names)\n",
    "b = pd.DataFrame(datasets.load_boston().target, columns=[\"MEDV\"])"
   ]
  },
  {
   "cell_type": "code",
   "execution_count": null,
   "metadata": {},
   "outputs": [],
   "source": [
    "A"
   ]
  },
  {
   "cell_type": "markdown",
   "metadata": {},
   "source": [
    "$$X = x_1+x_2+x_3+\\dots$$\n",
    "Mi intención,\n",
    "$$CRIM\\times x_1+ZN\\times x_2+INDUS\\times x_3+\\dots = b$$"
   ]
  },
  {
   "cell_type": "code",
   "execution_count": null,
   "metadata": {},
   "outputs": [],
   "source": [
    "Anumpy = np.matrix(A.to_numpy(dtype=np.float64))\n",
    "bnumpy = np.matrix(b.to_numpy(dtype=np.float64))"
   ]
  },
  {
   "cell_type": "code",
   "execution_count": null,
   "metadata": {},
   "outputs": [],
   "source": [
    "# %%timeit\n",
    "X_opt = np.linalg.inv(Anumpy.T*Anumpy)*Anumpy.T*bnumpy"
   ]
  },
  {
   "cell_type": "code",
   "execution_count": null,
   "metadata": {},
   "outputs": [],
   "source": [
    "print(X_opt.T)"
   ]
  },
  {
   "cell_type": "code",
   "execution_count": null,
   "metadata": {},
   "outputs": [],
   "source": [
    "sns.scatterplot(np.array(Anumpy*X_opt).flatten(),np.array(bnumpy).flatten())\n",
    "plt.plot([0,45],[0,45])"
   ]
  },
  {
   "cell_type": "code",
   "execution_count": null,
   "metadata": {},
   "outputs": [],
   "source": [
    "predicciones = np.array(Anumpy*X_opt).flatten()"
   ]
  },
  {
   "cell_type": "code",
   "execution_count": null,
   "metadata": {},
   "outputs": [],
   "source": [
    "observaciones = np.array(bnumpy).flatten()\n",
    "bbarrita = observaciones.mean()"
   ]
  },
  {
   "cell_type": "code",
   "execution_count": null,
   "metadata": {},
   "outputs": [],
   "source": [
    "r2 = 1-(np.linalg.norm(predicciones - observaciones)**2)/(np.linalg.norm(observaciones - bbarrita)**2)"
   ]
  },
  {
   "cell_type": "code",
   "execution_count": null,
   "metadata": {},
   "outputs": [],
   "source": [
    "r2"
   ]
  },
  {
   "cell_type": "markdown",
   "metadata": {},
   "source": [
    "# Implementemos nuestro algoritmo de Optimización por Newton Raphson\n",
    "La idea es encontrar $X_{opt}$ de forma iterativa sin invertir la matriz"
   ]
  },
  {
   "cell_type": "code",
   "execution_count": null,
   "metadata": {},
   "outputs": [],
   "source": [
    "# Definamos la func de costo (debe devolver un escalar)\n",
    "def L(x,A,b):\n",
    "    # (b_pred-b_obs)^2\n",
    "    # m es el numero de datos\n",
    "    # n es el numero de parametros == 13\n",
    "    m,n = A.shape\n",
    "    X = np.matrix(x).T\n",
    "    DeltaB=(A*X-b)\n",
    "    return (DeltaB.T*DeltaB)[0,0]/m\n",
    "def dLdx(x,A,b):\n",
    "    # (b_pred-b_obs)^2\n",
    "    # m es el numero de datos\n",
    "    # n es el numero de parametros == 13\n",
    "    m,n = A.shape\n",
    "    X = np.matrix(x).T\n",
    "    DeltaB=(A*X-b)\n",
    "    return (2/m)*np.array(A.T*DeltaB).flatten()"
   ]
  },
  {
   "cell_type": "code",
   "execution_count": null,
   "metadata": {},
   "outputs": [],
   "source": [
    "# encontrar una forma iterativa de actualizar X para ir minimizando la funcion de costo L\n",
    "x = np.zeros(Anumpy.shape[1])\n",
    "epsilon = 2e-6\n",
    "cost = []\n",
    "N = 100\n",
    "for it in range(N):\n",
    "    x = x - epsilon*dLdx(x,Anumpy,bnumpy)\n",
    "    cost.append(L(x,Anumpy,bnumpy))\n",
    "sns.scatterplot(np.arange(N)+1,cost)\n",
    "# plt.xscale('log')\n",
    "# plt.yscale('log')"
   ]
  },
  {
   "cell_type": "code",
   "execution_count": null,
   "metadata": {},
   "outputs": [],
   "source": [
    "L(np.array(X_opt).flatten(),Anumpy,bnumpy)"
   ]
  },
  {
   "cell_type": "code",
   "execution_count": null,
   "metadata": {},
   "outputs": [],
   "source": [
    "np.array(X_opt).flatten()"
   ]
  },
  {
   "cell_type": "code",
   "execution_count": null,
   "metadata": {},
   "outputs": [],
   "source": [
    "e=1e-10"
   ]
  },
  {
   "cell_type": "code",
   "execution_count": null,
   "metadata": {},
   "outputs": [],
   "source": [
    "# %%timeit\n",
    "res1 = sp.optimize.minimize(fun=L,jac=dLdx, x0=np.zeros(Anumpy.shape[1]), args = (Anumpy,bnumpy), method='Newton-CG', tol=e)\n",
    "res1"
   ]
  },
  {
   "cell_type": "code",
   "execution_count": null,
   "metadata": {},
   "outputs": [],
   "source": [
    "res2 = sp.optimize.minimize(fun=L,jac=dLdx, x0=np.zeros(Anumpy.shape[1]), args = (Anumpy,bnumpy), method='L-BFGS-B', tol=e)\n",
    "res2"
   ]
  },
  {
   "cell_type": "code",
   "execution_count": null,
   "metadata": {},
   "outputs": [],
   "source": [
    "L(res1.x,Anumpy,bnumpy)"
   ]
  },
  {
   "cell_type": "code",
   "execution_count": null,
   "metadata": {},
   "outputs": [],
   "source": [
    "L(res2.x,Anumpy,bnumpy)"
   ]
  },
  {
   "cell_type": "code",
   "execution_count": null,
   "metadata": {},
   "outputs": [],
   "source": [
    "L(np.array(X_opt).flatten(),Anumpy,bnumpy)"
   ]
  },
  {
   "cell_type": "code",
   "execution_count": null,
   "metadata": {},
   "outputs": [],
   "source": [
    "calc_error(res2,e,names=[])"
   ]
  },
  {
   "cell_type": "markdown",
   "metadata": {},
   "source": [
    "# Fit a funciones no lineales"
   ]
  },
  {
   "cell_type": "code",
   "execution_count": null,
   "metadata": {},
   "outputs": [],
   "source": [
    "print(\"Nuestra caja experimental!\")\n",
    "a = 3/2\n",
    "b = 4\n",
    "c = -3\n",
    "N=100\n",
    "x = np.linspace(0.2,10,N)\n",
    "y = a/(1+np.exp(c*(x-b)))\n",
    "x1 = x + np.random.exponential(0.01,size=N)\n",
    "y1 = y + np.random.normal(0,0.05,size=N)\n",
    "x2 = x + np.random.normal(0,0.03,size=N)\n",
    "y2 = y + np.random.exponential(0.05,size=N)"
   ]
  },
  {
   "cell_type": "code",
   "execution_count": null,
   "metadata": {},
   "outputs": [],
   "source": [
    "sns.scatterplot(x1,y1)"
   ]
  },
  {
   "cell_type": "code",
   "execution_count": null,
   "metadata": {},
   "outputs": [],
   "source": [
    "sns.scatterplot(x2,y2)"
   ]
  },
  {
   "cell_type": "markdown",
   "metadata": {},
   "source": [
    "# ¿Cómo hacer el fit a la función?\n",
    "$$f(x) = a\\frac{1}{1+e^{bx+c}}$$"
   ]
  },
  {
   "cell_type": "code",
   "execution_count": null,
   "metadata": {},
   "outputs": [],
   "source": [
    "#como encuentro yo a, b y c?\n",
    "# cual seria nuestra funcion de costo\n",
    "def f(parametros,x):\n",
    "    return parametros[0]/(1+np.exp(parametros[1]*x+parametros[2]))\n",
    "def Lfit(parametros,x,y):\n",
    "    # L = promedio sobre todos los puntos (f(a,b,c;x)-y)^2\n",
    "    # parametros np.array([a,b,c])\n",
    "    deltaY=f(parametros,x) - y\n",
    "    return np.dot(deltaY,deltaY)/len(y)"
   ]
  },
  {
   "cell_type": "code",
   "execution_count": null,
   "metadata": {},
   "outputs": [],
   "source": [
    "print(\"Ajuste para el primer set: x1,y1\")\n",
    "e=1e-8\n",
    "# ansatz: a=1,b=0,c=0\n",
    "res1 = sp.optimize.minimize(fun=Lfit, x0=np.array([1,0,0]), args = (x1,y1), method='L-BFGS-B', tol=e)\n",
    "res1"
   ]
  },
  {
   "cell_type": "code",
   "execution_count": null,
   "metadata": {},
   "outputs": [],
   "source": [
    "y1_pred = f(res1.x,x1)\n",
    "sns.scatterplot(x1,y1)\n",
    "plt.plot(x1,y1_pred,color='r')"
   ]
  },
  {
   "cell_type": "code",
   "execution_count": null,
   "metadata": {},
   "outputs": [],
   "source": [
    "r2 = 1-np.sum((y1_pred-y1)**2)/np.sum((y1-y1.mean())**2)\n",
    "r2"
   ]
  },
  {
   "cell_type": "code",
   "execution_count": null,
   "metadata": {},
   "outputs": [],
   "source": [
    "calc_error(res1,e,names=['a','b','c'])"
   ]
  },
  {
   "cell_type": "markdown",
   "metadata": {},
   "source": [
    "# ¿Cómo hacer el fit a la función?\n",
    "$$f(x) = a + b\\tanh(cx+d)$$"
   ]
  },
  {
   "cell_type": "code",
   "execution_count": null,
   "metadata": {},
   "outputs": [],
   "source": [
    "#como encuentro yo a, b y c?\n",
    "# cual seria nuestra funcion de costo\n",
    "def ftilde(parametros,x):\n",
    "    return parametros[0]+parametros[1]*np.tanh(parametros[2]*x+parametros[3])\n",
    "def Lfit(parametros,x,y):\n",
    "    # L = promedio sobre todos los puntos (f(a,b,c,d;x)-y)^2\n",
    "    # parametros np.array([a,b,c,d])\n",
    "    deltaY=ftilde(parametros,x) - y\n",
    "    return np.dot(deltaY,deltaY)/len(y)"
   ]
  },
  {
   "cell_type": "code",
   "execution_count": null,
   "metadata": {},
   "outputs": [],
   "source": [
    "print(\"Ajuste para el primer set: x1,y1\")\n",
    "e=1e-8\n",
    "# ansatz: a=0,b=1,c=0,d=0\n",
    "res1 = sp.optimize.minimize(fun=Lfit, x0=np.array([0,1,0,0]), args = (x1,y1), method='L-BFGS-B', tol=e)\n",
    "res1"
   ]
  },
  {
   "cell_type": "code",
   "execution_count": null,
   "metadata": {},
   "outputs": [],
   "source": [
    "y1_pred = ftilde(res1.x,x1)\n",
    "sns.scatterplot(x1,y1)\n",
    "plt.plot(x1,y1_pred,color='r')"
   ]
  },
  {
   "cell_type": "code",
   "execution_count": null,
   "metadata": {},
   "outputs": [],
   "source": [
    "r2 = 1-np.sum((y1_pred-y1)**2)/np.sum((y1-y1.mean())**2)\n",
    "r2"
   ]
  },
  {
   "cell_type": "code",
   "execution_count": null,
   "metadata": {},
   "outputs": [],
   "source": [
    "calc_error(res1,e,names=['a','b','c','d'])"
   ]
  },
  {
   "cell_type": "code",
   "execution_count": null,
   "metadata": {},
   "outputs": [],
   "source": []
  }
 ],
 "metadata": {
  "kernelspec": {
   "display_name": "Python 3",
   "language": "python",
   "name": "dev"
  },
  "language_info": {
   "codemirror_mode": {
    "name": "ipython",
    "version": 3
   },
   "file_extension": ".py",
   "mimetype": "text/x-python",
   "name": "python",
   "nbconvert_exporter": "python",
   "pygments_lexer": "ipython3",
   "version": "3.7.10"
  }
 },
 "nbformat": 4,
 "nbformat_minor": 4
}
