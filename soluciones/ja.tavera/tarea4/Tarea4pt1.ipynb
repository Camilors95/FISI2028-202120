{
 "cells": [
  {
   "cell_type": "markdown",
   "id": "f3f8c78f",
   "metadata": {},
   "source": [
    "Tarea 4\n",
    "Con base a los métodos vistos en clase resuelva las siguientes dos preguntas\n",
    "\n",
    "(A) Integrales\n",
    "$\\int_{0}^{1}x^{-1/2}\\,\\text{d}x$\n",
    "$\\int_{0}^{\\infty}e^{-x}\\ln{x}\\,\\text{d}x$\n",
    "$\\int_{0}^{\\infty}\\frac{\\sin{x}}{x}\\,\\text{d}x$\n"
   ]
  },
  {
   "cell_type": "code",
   "execution_count": 1,
   "id": "e548597d",
   "metadata": {},
   "outputs": [],
   "source": [
    "import numpy as np\n",
    "import pandas as pd\n",
    "import scipy as sp\n",
    "import sklearn as sl\n",
    "import math\n",
    "import seaborn as sns; sns.set()\n",
    "import matplotlib as mpl\n",
    "from matplotlib import pyplot as plt\n",
    "from mpl_toolkits.mplot3d import axes3d\n",
    "from matplotlib import cm\n",
    "%matplotlib inline"
   ]
  },
  {
   "cell_type": "code",
   "execution_count": 25,
   "id": "bc3bccf9",
   "metadata": {},
   "outputs": [
    {
     "name": "stdout",
     "output_type": "stream",
     "text": [
      "La primera integral tiene un valor de:  1.7990507717381319\n",
      "La segunda integral tiene un valor de:  -2.084950834764822\n",
      "La tercera integral tiene un valor de:  1.559734493118496\n"
     ]
    }
   ],
   "source": [
    "#Utilizando el método del trapecio se va a resolver la primera parte:\n",
    "from math import pi\n",
    "f = lambda x: x**(-1/2)\n",
    "#Primero la integral de f de -1 hasta 3\n",
    "def trapeciof(inf,sup,n):\n",
    "    h = (sup-inf)/n\n",
    "    s = 0.5*(f(inf)-f(sup))\n",
    "    for i in range(1,n):\n",
    "        s+=f(inf+i*h)\n",
    "    integral = h*s\n",
    "    return integral\n",
    "f2= lambda x: (math.exp(1)**-x)*np.log(x)\n",
    "def trapeciof2(inf,sup,n):\n",
    "    h = (sup-inf)/n\n",
    "    s = 0.5*(f2(inf)-f2(sup))\n",
    "    for i in range(1,n):\n",
    "        s+=f2(inf+i*h)\n",
    "    integral = h*s\n",
    "    return integral\n",
    "f3 = lambda x: np.sin(x)/x\n",
    "def trapeciof3(inf,sup,n):\n",
    "    h = (sup-inf)/n\n",
    "    s = 0.5*(f3(inf)-f3(sup))\n",
    "    for i in range(1,n):\n",
    "        s+=f3(inf+i*h)\n",
    "    integral = h*s\n",
    "    return integral\n",
    "\n",
    "print(\"La primera integral tiene un valor de: \",trapeciof(0.01,1,1000) )\n",
    "print(\"La segunda integral tiene un valor de: \", trapeciof2(0.01,1000,1000))\n",
    "print(\"La tercera integral tiene un valor de: \", trapeciof3(0.01,1000,1000))\n",
    "\n"
   ]
  },
  {
   "cell_type": "code",
   "execution_count": null,
   "id": "444b52ab",
   "metadata": {},
   "outputs": [],
   "source": []
  },
  {
   "cell_type": "code",
<<<<<<< HEAD
   "execution_count": 18,
=======
   "execution_count": 32,
>>>>>>> 918b688 (jp.mallarino50: revision tarea 3 y 4 en clase)
   "id": "62f8fdfd-30ef-4786-a7a8-f401439e6b10",
   "metadata": {},
   "outputs": [
    {
     "name": "stdout",
     "output_type": "stream",
     "text": [
<<<<<<< HEAD
      "integral:  -0.3340872411546131\n"
     ]
    }
   ],
   "source": [
    "# 0.5772156649015328606065120900824024310421\n",
    "z, w = sp.special.roots_genlaguerre(n=5,alpha=0)\n",
    "def f(x):\n",
    "    #return np.exp(-x)*np.log(x)\n",
    "    return (x*np.log(x)-x)*np.exp(-x)\n",
    "print(\"integral: \",np.dot(w,f(z)))"
   ]
  },
  {
   "cell_type": "code",
   "execution_count": 19,
   "id": "49af9a4d-7b16-4b92-a9e0-a5c258cab9f3",
   "metadata": {},
   "outputs": [
    {
     "data": {
      "text/plain": [
       "[<matplotlib.lines.Line2D at 0x7fc929844070>]"
      ]
     },
     "execution_count": 19,
=======
      "integral:  -0.5778537162431208\n"
     ]
    },
    {
     "data": {
      "text/plain": [
       "[<matplotlib.lines.Line2D at 0x7fc929433d00>]"
      ]
     },
     "execution_count": 32,
>>>>>>> 918b688 (jp.mallarino50: revision tarea 3 y 4 en clase)
     "metadata": {},
     "output_type": "execute_result"
    },
    {
     "data": {
<<<<<<< HEAD
      "image/png": "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\n",
=======
      "image/png": "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\n",
>>>>>>> 918b688 (jp.mallarino50: revision tarea 3 y 4 en clase)
      "text/plain": [
       "<Figure size 432x288 with 1 Axes>"
      ]
     },
     "metadata": {
      "needs_background": "light"
     },
     "output_type": "display_data"
    }
   ],
   "source": [
<<<<<<< HEAD
    "plt.plot(np.linspace(0.01,10,100),f(np.linspace(0.01,10,100)))"
   ]
  },
  {
   "cell_type": "code",
   "execution_count": 20,
   "id": "595d2543-24d6-4c4d-babd-37d7bd4f40e9",
   "metadata": {},
   "outputs": [
    {
     "data": {
      "text/plain": [
       "array([ 0.26356032,  1.41340306,  3.59642577,  7.08581001, 12.64080084])"
      ]
     },
     "execution_count": 20,
     "metadata": {},
     "output_type": "execute_result"
    }
   ],
   "source": [
    "z"
   ]
  },
  {
   "cell_type": "code",
   "execution_count": 21,
   "id": "002245e9-09d0-4e57-a5f3-7cfc18cc12ce",
   "metadata": {},
   "outputs": [
    {
     "data": {
      "text/plain": [
       "array([5.21755611e-01, 3.98666811e-01, 7.59424497e-02, 3.61175868e-03,\n",
       "       2.33699724e-05])"
      ]
     },
     "execution_count": 21,
     "metadata": {},
     "output_type": "execute_result"
    }
   ],
   "source": [
    "w"
=======
    "# 0.5772156649015328606065120900824024310421\n",
    "z, w = sp.special.roots_genlaguerre(n=20,alpha=0)\n",
    "def f(x, /, new=False):\n",
    "    if new:\n",
    "        return (x*np.log(x)-x)\n",
    "    return np.log(x)\n",
    "print(\"integral: \",np.dot(w,f(z, new=True)))\n",
    "x_tmp = np.linspace(0.01,10,100)\n",
    "plt.plot(x_tmp,f(x_tmp, new=True))"
>>>>>>> 918b688 (jp.mallarino50: revision tarea 3 y 4 en clase)
   ]
  },
  {
   "cell_type": "code",
   "execution_count": null,
   "id": "78938aed-b113-4a3d-b726-2dd9b4bdfe46",
   "metadata": {},
   "outputs": [],
   "source": []
  }
 ],
 "metadata": {
  "kernelspec": {
   "display_name": "Python 3 (ipykernel)",
   "language": "python",
   "name": "python3"
  },
  "language_info": {
   "codemirror_mode": {
    "name": "ipython",
    "version": 3
   },
   "file_extension": ".py",
   "mimetype": "text/x-python",
   "name": "python",
   "nbconvert_exporter": "python",
   "pygments_lexer": "ipython3",
   "version": "3.9.7"
  }
 },
 "nbformat": 4,
 "nbformat_minor": 5
}
