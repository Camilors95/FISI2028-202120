{
 "cells": [
  {
   "cell_type": "markdown",
   "id": "f3f8c78f",
   "metadata": {},
   "source": [
    "Tarea 4\n",
    "Con base a los métodos vistos en clase resuelva las siguientes dos preguntas\n",
    "\n",
    "(A) Integrales\n",
    "$\\int_{0}^{1}x^{-1/2}\\,\\text{d}x$\n",
    "$\\int_{0}^{\\infty}e^{-x}\\ln{x}\\,\\text{d}x$\n",
    "$\\int_{0}^{\\infty}\\frac{\\sin{x}}{x}\\,\\text{d}x$\n"
   ]
  },
  {
   "cell_type": "code",
   "execution_count": 1,
   "id": "e548597d",
   "metadata": {},
   "outputs": [],
   "source": [
    "import numpy as np\n",
    "import pandas as pd\n",
    "import scipy as sp\n",
    "import sklearn as sl\n",
    "import math\n",
    "import seaborn as sns; sns.set()\n",
    "import matplotlib as mpl\n",
    "from matplotlib import pyplot as plt\n",
    "from mpl_toolkits.mplot3d import axes3d\n",
    "from matplotlib import cm\n",
    "%matplotlib inline"
   ]
  },
  {
   "cell_type": "code",
   "execution_count": 25,
   "id": "bc3bccf9",
   "metadata": {},
   "outputs": [
    {
     "name": "stdout",
     "output_type": "stream",
     "text": [
      "La primera integral tiene un valor de:  1.7990507717381319\n",
      "La segunda integral tiene un valor de:  -2.084950834764822\n",
      "La tercera integral tiene un valor de:  1.559734493118496\n"
     ]
    }
   ],
   "source": [
    "#Utilizando el método del trapecio se va a resolver la primera parte:\n",
    "from math import pi\n",
    "f = lambda x: x**(-1/2)\n",
    "#Primero la integral de f de -1 hasta 3\n",
    "def trapeciof(inf,sup,n):\n",
    "    h = (sup-inf)/n\n",
    "    s = 0.5*(f(inf)-f(sup))\n",
    "    for i in range(1,n):\n",
    "        s+=f(inf+i*h)\n",
    "    integral = h*s\n",
    "    return integral\n",
    "f2= lambda x: (math.exp(1)**-x)*np.log(x)\n",
    "def trapeciof2(inf,sup,n):\n",
    "    h = (sup-inf)/n\n",
    "    s = 0.5*(f2(inf)-f2(sup))\n",
    "    for i in range(1,n):\n",
    "        s+=f2(inf+i*h)\n",
    "    integral = h*s\n",
    "    return integral\n",
    "f3 = lambda x: np.sin(x)/x\n",
    "def trapeciof3(inf,sup,n):\n",
    "    h = (sup-inf)/n\n",
    "    s = 0.5*(f3(inf)-f3(sup))\n",
    "    for i in range(1,n):\n",
    "        s+=f3(inf+i*h)\n",
    "    integral = h*s\n",
    "    return integral\n",
    "\n",
    "print(\"La primera integral tiene un valor de: \",trapeciof(0.01,1,1000) )\n",
    "print(\"La segunda integral tiene un valor de: \", trapeciof2(0.01,1000,1000))\n",
    "print(\"La tercera integral tiene un valor de: \", trapeciof3(0.01,1000,1000))\n",
    "\n"
   ]
  },
  {
   "cell_type": "code",
   "execution_count": null,
   "id": "444b52ab",
   "metadata": {},
   "outputs": [],
   "source": []
  },
  {
   "cell_type": "code",
   "execution_count": 18,
   "id": "62f8fdfd-30ef-4786-a7a8-f401439e6b10",
   "metadata": {},
   "outputs": [
    {
     "name": "stdout",
     "output_type": "stream",
     "text": [
      "integral:  -0.3340872411546131\n"
     ]
    }
   ],
   "source": [
    "# 0.5772156649015328606065120900824024310421\n",
    "z, w = sp.special.roots_genlaguerre(n=5,alpha=0)\n",
    "def f(x):\n",
    "    #return np.exp(-x)*np.log(x)\n",
    "    return (x*np.log(x)-x)*np.exp(-x)\n",
    "print(\"integral: \",np.dot(w,f(z)))"
   ]
  },
  {
   "cell_type": "code",
   "execution_count": 19,
   "id": "49af9a4d-7b16-4b92-a9e0-a5c258cab9f3",
   "metadata": {},
   "outputs": [
    {
     "data": {
      "text/plain": [
       "[<matplotlib.lines.Line2D at 0x7fc929844070>]"
      ]
     },
     "execution_count": 19,
     "metadata": {},
     "output_type": "execute_result"
    },
    {
     "data": {
      "image/png": "[encoded data removed]",
      "text/plain": [
       "<Figure size 432x288 with 1 Axes>"
      ]
     },
     "metadata": {
      "needs_background": "light"
     },
     "output_type": "display_data"
    }
   ],
   "source": [
    "plt.plot(np.linspace(0.01,10,100),f(np.linspace(0.01,10,100)))"
   ]
  },
  {
   "cell_type": "code",
   "execution_count": 20,
   "id": "595d2543-24d6-4c4d-babd-37d7bd4f40e9",
   "metadata": {},
   "outputs": [
    {
     "data": {
      "text/plain": [
       "array([ 0.26356032,  1.41340306,  3.59642577,  7.08581001, 12.64080084])"
      ]
     },
     "execution_count": 20,
     "metadata": {},
     "output_type": "execute_result"
    }
   ],
   "source": [
    "z"
   ]
  },
  {
   "cell_type": "code",
   "execution_count": 21,
   "id": "002245e9-09d0-4e57-a5f3-7cfc18cc12ce",
   "metadata": {},
   "outputs": [
    {
     "data": {
      "text/plain": [
       "array([5.21755611e-01, 3.98666811e-01, 7.59424497e-02, 3.61175868e-03,\n",
       "       2.33699724e-05])"
      ]
     },
     "execution_count": 21,
     "metadata": {},
     "output_type": "execute_result"
    }
   ],
   "source": [
    "w"
   ]
  },
  {
   "cell_type": "code",
   "execution_count": null,
   "id": "78938aed-b113-4a3d-b726-2dd9b4bdfe46",
   "metadata": {},
   "outputs": [],
   "source": []
  }
 ],
 "metadata": {
  "kernelspec": {
   "display_name": "Python 3 (ipykernel)",
   "language": "python",
   "name": "python3"
  },
  "language_info": {
   "codemirror_mode": {
    "name": "ipython",
    "version": 3
   },
   "file_extension": ".py",
   "mimetype": "text/x-python",
   "name": "python",
   "nbconvert_exporter": "python",
   "pygments_lexer": "ipython3",
   "version": "3.9.7"
  }
 },
 "nbformat": 4,
 "nbformat_minor": 5
}
